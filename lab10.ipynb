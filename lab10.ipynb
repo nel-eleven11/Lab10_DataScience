{
  "cells": [
    {
      "cell_type": "markdown",
      "id": "4978e9ae",
      "metadata": {
        "id": "4978e9ae"
      },
      "source": [
        "# Laboratorio 10 - Data Science\n",
        "## Proyecto de Consultoría: Regresión Lineal con Python y Spark\n",
        "\n",
        "- Nelson García Bravatti\n",
        "- Christian Echeverría\n"
      ]
    },
    {
      "cell_type": "code",
      "execution_count": 2,
      "id": "724bf31a",
      "metadata": {
        "vscode": {
          "languageId": "plaintext"
        },
        "id": "724bf31a"
      },
      "outputs": [],
      "source": [
        "!pip -q install pyspark"
      ]
    },
    {
      "cell_type": "code",
      "execution_count": 6,
      "id": "fdfe5ae6",
      "metadata": {
        "vscode": {
          "languageId": "plaintext"
        },
        "colab": {
          "base_uri": "https://localhost:8080/"
        },
        "id": "fdfe5ae6",
        "outputId": "0b465d76-1f55-4d5f-f335-45d4e9348581"
      },
      "outputs": [
        {
          "output_type": "stream",
          "name": "stdout",
          "text": [
            "Spark version: 3.5.1\n"
          ]
        }
      ],
      "source": [
        "from pyspark.sql import SparkSession\n",
        "\n",
        "spark = SparkSession.builder.appName(\"Lab DF — Cruceros\").getOrCreate()\n",
        "print(\"Spark version:\", spark.version)"
      ]
    },
    {
      "cell_type": "code",
      "source": [
        "file_path = '/content/barcos_crucero.csv'\n",
        "df = (\n",
        "    spark.read\n",
        "         .option(\"header\", True)\n",
        "         .option(\"inferSchema\", True)\n",
        "         .csv(file_path)\n",
        ")\n",
        "\n",
        "# Ver las primeras filas del dataframe\n",
        "df.show(5)"
      ],
      "metadata": {
        "colab": {
          "base_uri": "https://localhost:8080/"
        },
        "id": "NTN7I-L2rimK",
        "outputId": "9d0ad2a4-9f2e-4dc8-e535-627554cacc15"
      },
      "id": "NTN7I-L2rimK",
      "execution_count": 8,
      "outputs": [
        {
          "output_type": "stream",
          "name": "stdout",
          "text": [
            "+-----------+-----------+---+------------------+----------+------+------+-----------------+----+\n",
            "|  Ship_name|Cruise_line|Age|           Tonnage|passengers|length|cabins|passenger_density|crew|\n",
            "+-----------+-----------+---+------------------+----------+------+------+-----------------+----+\n",
            "|    Journey|    Azamara|  6|30.276999999999997|      6.94|  5.94|  3.55|            42.64|3.55|\n",
            "|      Quest|    Azamara|  6|30.276999999999997|      6.94|  5.94|  3.55|            42.64|3.55|\n",
            "|Celebration|   Carnival| 26|            47.262|     14.86|  7.22|  7.43|             31.8| 6.7|\n",
            "|   Conquest|   Carnival| 11|             110.0|     29.74|  9.53| 14.88|            36.99|19.1|\n",
            "|    Destiny|   Carnival| 17|           101.353|     26.42|  8.92| 13.21|            38.36|10.0|\n",
            "+-----------+-----------+---+------------------+----------+------+------+-----------------+----+\n",
            "only showing top 5 rows\n",
            "\n"
          ]
        }
      ]
    },
    {
      "cell_type": "code",
      "source": [
        "df.printSchema()"
      ],
      "metadata": {
        "colab": {
          "base_uri": "https://localhost:8080/"
        },
        "id": "fWU3cq5JsnTs",
        "outputId": "f1908599-7c1e-4985-ab47-686b2b06affd"
      },
      "id": "fWU3cq5JsnTs",
      "execution_count": 10,
      "outputs": [
        {
          "output_type": "stream",
          "name": "stdout",
          "text": [
            "root\n",
            " |-- Ship_name: string (nullable = true)\n",
            " |-- Cruise_line: string (nullable = true)\n",
            " |-- Age: integer (nullable = true)\n",
            " |-- Tonnage: double (nullable = true)\n",
            " |-- passengers: double (nullable = true)\n",
            " |-- length: double (nullable = true)\n",
            " |-- cabins: double (nullable = true)\n",
            " |-- passenger_density: double (nullable = true)\n",
            " |-- crew: double (nullable = true)\n",
            "\n"
          ]
        }
      ]
    },
    {
      "cell_type": "code",
      "source": [
        "from pyspark.sql import functions as F, types as T\n",
        "\n",
        "#Seleccionar columnas numéricas para describir\n",
        "numeric_types = (T.DoubleType, T.IntegerType, T.LongType, T.FloatType, T.ShortType, T.DecimalType)\n",
        "num_cols = [f.name for f in df.schema.fields if isinstance(f.dataType, numeric_types)]\n",
        "\n",
        "#Validar que existan columnas numéricas\n",
        "if not num_cols:\n",
        "    raise ValueError(\"No se detectaron columnas numéricas para describir. Revisa el esquema/lectura del CSV.\")\n",
        "\n",
        "#Descriptivos básicos\n",
        "desc_basic = df.select(num_cols).describe()\n",
        "desc_basic.show(truncate=False)"
      ],
      "metadata": {
        "colab": {
          "base_uri": "https://localhost:8080/"
        },
        "id": "sJbU054wsjwk",
        "outputId": "6ffcdd18-d088-49f7-ec63-1e1022aa5bbe"
      },
      "id": "sJbU054wsjwk",
      "execution_count": 12,
      "outputs": [
        {
          "output_type": "stream",
          "name": "stdout",
          "text": [
            "+-------+------------------+------------------+-----------------+-----------------+------------------+-----------------+-----------------+\n",
            "|summary|Age               |Tonnage           |passengers       |length           |cabins            |passenger_density|crew             |\n",
            "+-------+------------------+------------------+-----------------+-----------------+------------------+-----------------+-----------------+\n",
            "|count  |158               |158               |158              |158              |158               |158              |158              |\n",
            "|mean   |15.689873417721518|71.28467088607599 |18.45740506329114|8.130632911392404|8.830000000000005 |39.90094936708861|7.794177215189873|\n",
            "|stddev |7.615691058751413 |37.229540025907866|9.677094775143416|1.793473548054825|4.4714172221480615|8.63921711391542 |3.503486564627034|\n",
            "|min    |4                 |2.329             |0.66             |2.79             |0.33              |17.7             |0.59             |\n",
            "|max    |48                |220.0             |54.0             |11.82            |27.0              |71.43            |21.0             |\n",
            "+-------+------------------+------------------+-----------------+-----------------+------------------+-----------------+-----------------+\n",
            "\n"
          ]
        }
      ]
    },
    {
      "cell_type": "code",
      "source": [
        "import matplotlib.pyplot as plt\n",
        "\n",
        "def numeric_cols(sdf, include_decimal=True):\n",
        "    numeric_types = {\n",
        "        T.ByteType, T.ShortType, T.IntegerType, T.LongType,\n",
        "        T.FloatType, T.DoubleType\n",
        "    }\n",
        "    if include_decimal:\n",
        "        numeric_types.add(T.DecimalType)\n",
        "    cols = []\n",
        "    for f in sdf.schema.fields:\n",
        "        if type(f.dataType) in numeric_types:\n",
        "            cols.append(f.name)\n",
        "    return cols\n",
        "\n",
        "def boxplot_stats_spark(\n",
        "    sdf,\n",
        "    cols=None,\n",
        "    by=None,\n",
        "    whisker_coeff=1.5,\n",
        "    approx_rel_err=0.01,\n",
        "    max_groups=12\n",
        "):\n",
        "    # Detectar columnas numéricas si no se especifican\n",
        "    if cols is None:\n",
        "        numeric_types = {\n",
        "            T.ByteType, T.ShortType, T.IntegerType, T.LongType,\n",
        "            T.FloatType, T.DoubleType, T.DecimalType\n",
        "        }\n",
        "        cols = [f.name for f in sdf.schema.fields if type(f.dataType) in numeric_types]\n",
        "    if not cols:\n",
        "        raise ValueError(\"No se encontraron columnas numéricas en el DataFrame.\")\n",
        "\n",
        "    # Categorías (si aplica)\n",
        "    groups = [None]\n",
        "    if by:\n",
        "        groups = [r[0] for r in (\n",
        "            sdf.groupBy(by).count().orderBy(F.desc(\"count\")).limit(max_groups).select(by).collect()\n",
        "        )]\n",
        "\n",
        "    results = {}\n",
        "    prob = F.array(F.lit(0.25), F.lit(0.5), F.lit(0.75))\n",
        "    acc = int(1/approx_rel_err)\n",
        "\n",
        "    for g in groups:\n",
        "        sdf_g = sdf if g is None else sdf.filter(F.col(by) == F.lit(g))\n",
        "        group_key = \"Todos\" if g is None else f\"{by}={g}\"\n",
        "        results[group_key] = {}\n",
        "\n",
        "        for c in cols:\n",
        "            # Filtra nulos/NaN antes de cualquier agregación\n",
        "            flt = sdf_g.where(F.col(c).isNotNull() & ~F.isnan(F.col(c)))\n",
        "\n",
        "            # Si no hay filas válidas, continuar\n",
        "            if flt.limit(1).count() == 0:\n",
        "                continue\n",
        "\n",
        "            # Cuantiles\n",
        "            q_row = flt.select(F.percentile_approx(F.col(c), prob, acc).alias(\"q\")).collect()\n",
        "            q1, med, q3 = q_row[0][\"q\"]\n",
        "            if q1 is None or med is None or q3 is None:\n",
        "                continue\n",
        "\n",
        "            iqr = q3 - q1\n",
        "            lower_bound = q1 - whisker_coeff * iqr\n",
        "            upper_bound = q3 + whisker_coeff * iqr\n",
        "\n",
        "            # Bigotes dentro de límites\n",
        "            whis = (flt.select(\n",
        "                F.min(F.when(F.col(c) >= lower_bound, F.col(c))).alias(\"whislo\"),\n",
        "                F.max(F.when(F.col(c) <= upper_bound, F.col(c))).alias(\"whishi\")\n",
        "            ).collect()[0])\n",
        "\n",
        "            whislo = whis[\"whislo\"]\n",
        "            whishi = whis[\"whishi\"]\n",
        "\n",
        "            # Fallback si todo quedó fuera\n",
        "            if whislo is None or whishi is None:\n",
        "                mm = flt.select(F.min(c).alias(\"minv\"), F.max(c).alias(\"maxv\")).collect()[0]\n",
        "                whislo = mm[\"minv\"]\n",
        "                whishi = mm[\"maxv\"]\n",
        "\n",
        "            # Conteo de outliers\n",
        "            outliers_count = flt.filter((F.col(c) < lower_bound) | (F.col(c) > upper_bound)).count()\n",
        "\n",
        "            results[group_key][c] = {\n",
        "                \"label\": c,\n",
        "                \"med\": float(med),\n",
        "                \"q1\": float(q1),\n",
        "                \"q3\": float(q3),\n",
        "                \"whislo\": float(whislo) if whislo is not None else float(q1),\n",
        "                \"whishi\": float(whishi) if whishi is not None else float(q3),\n",
        "                \"fliers\": [],\n",
        "                \"outliers_count\": int(outliers_count),\n",
        "            }\n",
        "    return results\n",
        "\n",
        "def plot_boxplots_from_stats(stats_dict, figsize=(10,6)):\n",
        "    \"\"\"\n",
        "    stats_dict es el resultado de boxplot_stats_spark.\n",
        "    Si tiene múltiples grupos, se crea una figura por grupo.\n",
        "    \"\"\"\n",
        "    for group_key, per_col in stats_dict.items():\n",
        "        if not per_col:\n",
        "            continue\n",
        "        fig = plt.figure(figsize=figsize)\n",
        "        ax = plt.gca()\n",
        "\n",
        "        ordered = sorted(per_col.values(), key=lambda d: d[\"label\"])\n",
        "        # Matplotlib bxp espera dicts con med, q1, q3, whislo, whishi, fliers\n",
        "        ax.bxp(ordered, showfliers=True)\n",
        "        ax.set_title(f\"Diagrama de caja y bigotes — {group_key}\")\n",
        "        ax.set_ylabel(\"Valor\")\n",
        "        ax.set_xlabel(\"Variables\")\n",
        "\n",
        "        xticks = ax.get_xticklabels()\n",
        "        for i, lbl in enumerate(xticks):\n",
        "            var = ordered[i][\"label\"]\n",
        "            oc = per_col[var][\"outliers_count\"]\n",
        "            lbl.set_text(f\"{var}\\n({oc} outliers)\")\n",
        "        ax.set_xticklabels(xticks, rotation=0)\n",
        "        plt.tight_layout()\n",
        "        plt.show()\n",
        "\n",
        "# Boxplots de todas las columnas numéricas:\n",
        "stats = boxplot_stats_spark(df)\n",
        "plot_boxplots_from_stats(stats)\n",
        "\n"
      ],
      "metadata": {
        "colab": {
          "base_uri": "https://localhost:8080/",
          "height": 607
        },
        "id": "ipK7HLrUtr0H",
        "outputId": "1952d665-3ae0-4d29-91aa-ebefa13bad4d"
      },
      "id": "ipK7HLrUtr0H",
      "execution_count": 16,
      "outputs": [
        {
          "output_type": "display_data",
          "data": {
            "text/plain": [
              "<Figure size 1000x600 with 1 Axes>"
            ],
            "image/png": "[encoded data removed]"
          },
          "metadata": {}
        }
      ]
    }
  ],
  "metadata": {
    "language_info": {
      "name": "python"
    },
    "colab": {
      "provenance": []
    },
    "kernelspec": {
      "name": "python3",
      "display_name": "Python 3"
    }
  },
  "nbformat": 4,
  "nbformat_minor": 5
}