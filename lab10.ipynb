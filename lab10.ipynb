{
 "cells": [
  {
   "cell_type": "markdown",
   "id": "4978e9ae",
   "metadata": {},
   "source": [
    "# Laboratorio 10 - Data Science\n",
    "## Proyecto de Consultoría: Regresión Lineal con Python y Spark\n",
    "\n",
    "- Nelson García Bravatti\n",
    "- Christian Echeverría\n"
   ]
  },
  {
   "cell_type": "code",
   "execution_count": null,
   "id": "724bf31a",
   "metadata": {
    "vscode": {
     "languageId": "plaintext"
    }
   },
   "outputs": [],
   "source": [
    "!pip -q install pyspark"
   ]
  },
  {
   "cell_type": "code",
   "execution_count": null,
   "id": "fdfe5ae6",
   "metadata": {
    "vscode": {
     "languageId": "plaintext"
    }
   },
   "outputs": [],
   "source": [
    "from pyspark.sql import SparkSession\n",
    "\n",
    "spark = SparkSession.builder.appName(\"Lab Spark DF — Walmart\").getOrCreate()\n",
    "print(\"Spark version:\", spark.version)"
   ]
  }
 ],
 "metadata": {
  "language_info": {
   "name": "python"
  }
 },
 "nbformat": 4,
 "nbformat_minor": 5
}
