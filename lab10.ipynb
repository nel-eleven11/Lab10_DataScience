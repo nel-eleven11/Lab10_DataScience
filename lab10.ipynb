{
 "cells": [
  {
   "cell_type": "markdown",
   "id": "4978e9ae",
   "metadata": {},
   "source": [
    "# Laboratorio 10 - Data Science\n",
    "## Proyecto de Consultoría: Regresión Lineal con Python y Spark\n",
    "\n",
    "- Nelson García Bravatti\n",
    "- Christian Echeverría\n"
   ]
  },
  {
   "cell_type": "markdown",
   "id": "a48d7e20",
   "metadata": {},
   "source": []
  }
 ],
 "metadata": {
  "language_info": {
   "name": "python"
  }
 },
 "nbformat": 4,
 "nbformat_minor": 5
}
