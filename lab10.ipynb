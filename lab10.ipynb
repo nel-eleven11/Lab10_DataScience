{
  "cells": [
    {
      "cell_type": "markdown",
      "id": "4978e9ae",
      "metadata": {
        "id": "4978e9ae"
      },
      "source": [
        "# Laboratorio 10 - Data Science\n",
        "## Proyecto de Consultoría: Regresión Lineal con Python y Spark\n",
        "\n",
        "- Nelson García Bravatti\n",
        "- Christian Echeverría\n"
      ]
    },
    {
      "cell_type": "code",
      "execution_count": 2,
      "id": "724bf31a",
      "metadata": {
        "vscode": {
          "languageId": "plaintext"
        },
        "id": "724bf31a"
      },
      "outputs": [],
      "source": [
        "!pip -q install pyspark"
      ]
    },
    {
      "cell_type": "code",
      "execution_count": 6,
      "id": "fdfe5ae6",
      "metadata": {
        "vscode": {
          "languageId": "plaintext"
        },
        "id": "fdfe5ae6",
        "outputId": "0b465d76-1f55-4d5f-f335-45d4e9348581",
        "colab": {
          "base_uri": "https://localhost:8080/"
        }
      },
      "outputs": [
        {
          "output_type": "stream",
          "name": "stdout",
          "text": [
            "Spark version: 3.5.1\n"
          ]
        }
      ],
      "source": [
        "from pyspark.sql import SparkSession\n",
        "\n",
        "spark = SparkSession.builder.appName(\"Lab DF — Cruceros\").getOrCreate()\n",
        "print(\"Spark version:\", spark.version)"
      ]
    },
    {
      "cell_type": "code",
      "source": [
        "file_path = '/content/barcos_crucero.csv'\n",
        "df = (\n",
        "    spark.read\n",
        "         .option(\"header\", True)\n",
        "         .option(\"inferSchema\", True)\n",
        "         .csv(file_path)\n",
        ")\n",
        "\n",
        "# Ver las primeras filas del dataframe\n",
        "df.show(5)"
      ],
      "metadata": {
        "id": "NTN7I-L2rimK",
        "outputId": "9d0ad2a4-9f2e-4dc8-e535-627554cacc15",
        "colab": {
          "base_uri": "https://localhost:8080/"
        }
      },
      "id": "NTN7I-L2rimK",
      "execution_count": 8,
      "outputs": [
        {
          "output_type": "stream",
          "name": "stdout",
          "text": [
            "+-----------+-----------+---+------------------+----------+------+------+-----------------+----+\n",
            "|  Ship_name|Cruise_line|Age|           Tonnage|passengers|length|cabins|passenger_density|crew|\n",
            "+-----------+-----------+---+------------------+----------+------+------+-----------------+----+\n",
            "|    Journey|    Azamara|  6|30.276999999999997|      6.94|  5.94|  3.55|            42.64|3.55|\n",
            "|      Quest|    Azamara|  6|30.276999999999997|      6.94|  5.94|  3.55|            42.64|3.55|\n",
            "|Celebration|   Carnival| 26|            47.262|     14.86|  7.22|  7.43|             31.8| 6.7|\n",
            "|   Conquest|   Carnival| 11|             110.0|     29.74|  9.53| 14.88|            36.99|19.1|\n",
            "|    Destiny|   Carnival| 17|           101.353|     26.42|  8.92| 13.21|            38.36|10.0|\n",
            "+-----------+-----------+---+------------------+----------+------+------+-----------------+----+\n",
            "only showing top 5 rows\n",
            "\n"
          ]
        }
      ]
    },
    {
      "cell_type": "code",
      "source": [
        "df.printSchema()"
      ],
      "metadata": {
        "id": "fWU3cq5JsnTs",
        "outputId": "f1908599-7c1e-4985-ab47-686b2b06affd",
        "colab": {
          "base_uri": "https://localhost:8080/"
        }
      },
      "id": "fWU3cq5JsnTs",
      "execution_count": 10,
      "outputs": [
        {
          "output_type": "stream",
          "name": "stdout",
          "text": [
            "root\n",
            " |-- Ship_name: string (nullable = true)\n",
            " |-- Cruise_line: string (nullable = true)\n",
            " |-- Age: integer (nullable = true)\n",
            " |-- Tonnage: double (nullable = true)\n",
            " |-- passengers: double (nullable = true)\n",
            " |-- length: double (nullable = true)\n",
            " |-- cabins: double (nullable = true)\n",
            " |-- passenger_density: double (nullable = true)\n",
            " |-- crew: double (nullable = true)\n",
            "\n"
          ]
        }
      ]
    },
    {
      "cell_type": "code",
      "source": [
        "from pyspark.sql import functions as F, types as T\n",
        "\n",
        "#Seleccionar columnas numéricas para describir\n",
        "numeric_types = (T.DoubleType, T.IntegerType, T.LongType, T.FloatType, T.ShortType, T.DecimalType)\n",
        "num_cols = [f.name for f in df.schema.fields if isinstance(f.dataType, numeric_types)]\n",
        "\n",
        "#Validar que existan columnas numéricas\n",
        "if not num_cols:\n",
        "    raise ValueError(\"No se detectaron columnas numéricas para describir. Revisa el esquema/lectura del CSV.\")\n",
        "\n",
        "#Descriptivos básicos\n",
        "desc_basic = df.select(num_cols).describe()\n",
        "desc_basic.show(truncate=False)"
      ],
      "metadata": {
        "id": "sJbU054wsjwk",
        "outputId": "6ffcdd18-d088-49f7-ec63-1e1022aa5bbe",
        "colab": {
          "base_uri": "https://localhost:8080/"
        }
      },
      "id": "sJbU054wsjwk",
      "execution_count": 12,
      "outputs": [
        {
          "output_type": "stream",
          "name": "stdout",
          "text": [
            "+-------+------------------+------------------+-----------------+-----------------+------------------+-----------------+-----------------+\n",
            "|summary|Age               |Tonnage           |passengers       |length           |cabins            |passenger_density|crew             |\n",
            "+-------+------------------+------------------+-----------------+-----------------+------------------+-----------------+-----------------+\n",
            "|count  |158               |158               |158              |158              |158               |158              |158              |\n",
            "|mean   |15.689873417721518|71.28467088607599 |18.45740506329114|8.130632911392404|8.830000000000005 |39.90094936708861|7.794177215189873|\n",
            "|stddev |7.615691058751413 |37.229540025907866|9.677094775143416|1.793473548054825|4.4714172221480615|8.63921711391542 |3.503486564627034|\n",
            "|min    |4                 |2.329             |0.66             |2.79             |0.33              |17.7             |0.59             |\n",
            "|max    |48                |220.0             |54.0             |11.82            |27.0              |71.43            |21.0             |\n",
            "+-------+------------------+------------------+-----------------+-----------------+------------------+-----------------+-----------------+\n",
            "\n"
          ]
        }
      ]
    },
    {
      "cell_type": "code",
      "source": [],
      "metadata": {
        "id": "ipK7HLrUtr0H"
      },
      "id": "ipK7HLrUtr0H",
      "execution_count": null,
      "outputs": []
    }
  ],
  "metadata": {
    "language_info": {
      "name": "python"
    },
    "colab": {
      "provenance": []
    },
    "kernelspec": {
      "name": "python3",
      "display_name": "Python 3"
    }
  },
  "nbformat": 4,
  "nbformat_minor": 5
}